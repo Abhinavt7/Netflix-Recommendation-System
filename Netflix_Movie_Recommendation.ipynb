{
  "nbformat": 4,
  "nbformat_minor": 0,
  "metadata": {
    "colab": {
      "provenance": [],
      "gpuType": "T4",
      "authorship_tag": "ABX9TyPUQJf60v4VaT70cnrbLdiM"
    },
    "kernelspec": {
      "name": "python3",
      "display_name": "Python 3"
    },
    "language_info": {
      "name": "python"
    },
    "accelerator": "GPU"
  },
  "cells": [
    {
      "cell_type": "code",
      "execution_count": null,
      "metadata": {
        "colab": {
          "base_uri": "https://localhost:8080/"
        },
        "id": "SgM2A4OEH7i1",
        "outputId": "cba07727-e9a3-4cf7-96a2-f19ee440263b"
      },
      "outputs": [
        {
          "output_type": "stream",
          "name": "stdout",
          "text": [
            "Mounted at /content/drive\n"
          ]
        }
      ],
      "source": [
        "from google.colab import drive\n",
        "drive.mount('/content/drive')"
      ]
    },
    {
      "cell_type": "code",
      "source": [
        "!pip install scikit-surprise\n",
        "!pip install numpy==1.23.5 --upgrade\n",
        "\n",
        "!pip install cython --upgrade\n",
        "!pip install scikit-surprise --upgrade"
      ],
      "metadata": {
        "colab": {
          "base_uri": "https://localhost:8080/",
          "height": 842
        },
        "id": "cnq0-Y2DMc8n",
        "outputId": "91caf89a-1625-4c65-c619-25bd637f9677"
      },
      "execution_count": null,
      "outputs": [
        {
          "output_type": "stream",
          "name": "stdout",
          "text": [
            "Requirement already satisfied: scikit-surprise in /usr/local/lib/python3.11/dist-packages (1.1.4)\n",
            "Requirement already satisfied: joblib>=1.2.0 in /usr/local/lib/python3.11/dist-packages (from scikit-surprise) (1.5.1)\n",
            "Requirement already satisfied: numpy>=1.19.5 in /usr/local/lib/python3.11/dist-packages (from scikit-surprise) (2.0.2)\n",
            "Requirement already satisfied: scipy>=1.6.0 in /usr/local/lib/python3.11/dist-packages (from scikit-surprise) (1.15.3)\n",
            "Collecting numpy==1.23.5\n",
            "  Downloading numpy-1.23.5-cp311-cp311-manylinux_2_17_x86_64.manylinux2014_x86_64.whl.metadata (2.3 kB)\n",
            "Downloading numpy-1.23.5-cp311-cp311-manylinux_2_17_x86_64.manylinux2014_x86_64.whl (17.1 MB)\n",
            "\u001b[2K   \u001b[90m━━━━━━━━━━━━━━━━━━━━━━━━━━━━━━━━━━━━━━━━\u001b[0m \u001b[32m17.1/17.1 MB\u001b[0m \u001b[31m114.5 MB/s\u001b[0m eta \u001b[36m0:00:00\u001b[0m\n",
            "\u001b[?25hInstalling collected packages: numpy\n",
            "  Attempting uninstall: numpy\n",
            "    Found existing installation: numpy 2.0.2\n",
            "    Uninstalling numpy-2.0.2:\n",
            "      Successfully uninstalled numpy-2.0.2\n",
            "\u001b[31mERROR: pip's dependency resolver does not currently take into account all the packages that are installed. This behaviour is the source of the following dependency conflicts.\n",
            "jaxlib 0.5.1 requires numpy>=1.25, but you have numpy 1.23.5 which is incompatible.\n",
            "albumentations 2.0.8 requires numpy>=1.24.4, but you have numpy 1.23.5 which is incompatible.\n",
            "xarray 2025.3.1 requires numpy>=1.24, but you have numpy 1.23.5 which is incompatible.\n",
            "jax 0.5.2 requires numpy>=1.25, but you have numpy 1.23.5 which is incompatible.\n",
            "chex 0.1.89 requires numpy>=1.24.1, but you have numpy 1.23.5 which is incompatible.\n",
            "blosc2 3.5.0 requires numpy>=1.26, but you have numpy 1.23.5 which is incompatible.\n",
            "bigframes 2.8.0 requires numpy>=1.24.0, but you have numpy 1.23.5 which is incompatible.\n",
            "treescope 0.1.9 requires numpy>=1.25.2, but you have numpy 1.23.5 which is incompatible.\n",
            "db-dtypes 1.4.3 requires numpy>=1.24.0, but you have numpy 1.23.5 which is incompatible.\n",
            "scikit-image 0.25.2 requires numpy>=1.24, but you have numpy 1.23.5 which is incompatible.\n",
            "pymc 5.23.0 requires numpy>=1.25.0, but you have numpy 1.23.5 which is incompatible.\n",
            "albucore 0.0.24 requires numpy>=1.24.4, but you have numpy 1.23.5 which is incompatible.\n",
            "imbalanced-learn 0.13.0 requires numpy<3,>=1.24.3, but you have numpy 1.23.5 which is incompatible.\n",
            "tensorflow 2.18.0 requires numpy<2.1.0,>=1.26.0, but you have numpy 1.23.5 which is incompatible.\n",
            "thinc 8.3.6 requires numpy<3.0.0,>=2.0.0, but you have numpy 1.23.5 which is incompatible.\n",
            "xarray-einstats 0.9.1 requires numpy>=1.25, but you have numpy 1.23.5 which is incompatible.\u001b[0m\u001b[31m\n",
            "\u001b[0mSuccessfully installed numpy-1.23.5\n"
          ]
        },
        {
          "output_type": "display_data",
          "data": {
            "application/vnd.colab-display-data+json": {
              "pip_warning": {
                "packages": [
                  "numpy"
                ]
              },
              "id": "57bc0ba39f71461fb0881adcbd69f4b0"
            }
          },
          "metadata": {}
        },
        {
          "output_type": "stream",
          "name": "stdout",
          "text": [
            "Requirement already satisfied: cython in /usr/local/lib/python3.11/dist-packages (3.0.12)\n",
            "Collecting cython\n",
            "  Using cached cython-3.1.2-cp311-cp311-manylinux_2_17_x86_64.manylinux2014_x86_64.whl.metadata (5.9 kB)\n",
            "Using cached cython-3.1.2-cp311-cp311-manylinux_2_17_x86_64.manylinux2014_x86_64.whl (3.2 MB)\n",
            "\u001b[31mERROR: Operation cancelled by user\u001b[0m\u001b[31m\n",
            "\u001b[0m^C\n"
          ]
        }
      ]
    },
    {
      "cell_type": "code",
      "source": [
        "\n",
        "import requests\n",
        "import zipfile\n",
        "import io\n",
        "\n",
        "print(\"Library installed and modules imported.\")\n",
        "\n",
        "#Download dataset\n",
        "print(\"Downloading MovieLens dataset...\")\n",
        "url = 'http://files.grouplens.org/datasets/movielens/ml-latest-small.zip'\n",
        "r = requests.get(url)\n",
        "z = zipfile.ZipFile(io.BytesIO(r.content))\n",
        "\n",
        "print(\"Unzipping dataset...\")\n",
        "z.extractall()\n",
        "print(\"Dataset is ready in the 'ml-latest-small' folder.\")"
      ],
      "metadata": {
        "colab": {
          "base_uri": "https://localhost:8080/"
        },
        "id": "vqDl2P4aIsR2",
        "outputId": "d83c5731-19b7-4fc0-87ad-83b20a3777f3"
      },
      "execution_count": null,
      "outputs": [
        {
          "output_type": "stream",
          "name": "stdout",
          "text": [
            "Library installed and modules imported.\n",
            "Downloading MovieLens dataset...\n",
            "Unzipping dataset...\n",
            "Dataset is ready in the 'ml-latest-small' folder.\n"
          ]
        }
      ]
    },
    {
      "cell_type": "code",
      "source": [
        "#Imports and Data Loading\n",
        "import pandas as pd\n",
        "import numpy as np\n",
        "import matplotlib.pyplot as plt\n",
        "import seaborn as sns\n",
        "import requests\n",
        "import zipfile\n",
        "import io\n",
        "\n",
        "# Downloaded and unzipped data\n",
        "print(\"Loading data...\")\n",
        "try:\n",
        "    ratings_df = pd.read_csv('ml-latest-small/ratings.csv')\n",
        "    movies_df = pd.read_csv('ml-latest-small/movies.csv')\n",
        "    print(\"Data found locally.\")\n",
        "except FileNotFoundError:\n",
        "    print(\"Data not found. Downloading and unzipping...\")\n",
        "    url = 'http://files.grouplens.org/datasets/movielens/ml-latest-small.zip'\n",
        "    r = requests.get(url)\n",
        "    z = zipfile.ZipFile(io.BytesIO(r.content))\n",
        "    z.extractall()\n",
        "    ratings_df = pd.read_csv('ml-latest-small/ratings.csv')\n",
        "    movies_df = pd.read_csv('ml-latest-small/movies.csv')\n",
        "    print(\"Dataset is ready.\")\n",
        "\n",
        "df = pd.merge(ratings_df, movies_df, on='movieId')\n",
        "print(df.head())"
      ],
      "metadata": {
        "colab": {
          "base_uri": "https://localhost:8080/"
        },
        "id": "D5PbtsjeL1rs",
        "outputId": "07ffb73e-ef00-4e6a-db92-5e124ea9f806"
      },
      "execution_count": null,
      "outputs": [
        {
          "output_type": "stream",
          "name": "stdout",
          "text": [
            "Loading data...\n",
            "Data found locally.\n",
            "   userId  movieId  rating  timestamp                        title  \\\n",
            "0       1        1     4.0  964982703             Toy Story (1995)   \n",
            "1       1        3     4.0  964981247      Grumpier Old Men (1995)   \n",
            "2       1        6     4.0  964982224                  Heat (1995)   \n",
            "3       1       47     5.0  964983815  Seven (a.k.a. Se7en) (1995)   \n",
            "4       1       50     5.0  964982931   Usual Suspects, The (1995)   \n",
            "\n",
            "                                        genres  \n",
            "0  Adventure|Animation|Children|Comedy|Fantasy  \n",
            "1                               Comedy|Romance  \n",
            "2                        Action|Crime|Thriller  \n",
            "3                             Mystery|Thriller  \n",
            "4                       Crime|Mystery|Thriller  \n"
          ]
        }
      ]
    },
    {
      "cell_type": "code",
      "source": [
        "#Prepare Data for Surprise and Run Baseline Model\n",
        "\n",
        "from surprise import Reader, Dataset, BaselineOnly\n",
        "from surprise.model_selection import cross_validate\n",
        "\n",
        "#The Reader object helps parse the dataframe\n",
        "reader = Reader(rating_scale=(0.5, 5.0))\n",
        "\n",
        "data = Dataset.load_from_df(df[['userId', 'movieId', 'rating']], reader)\n",
        "\n",
        "# Model 1: BaselineOnly\n",
        "print(\"Evaluating BaselineOnly Model...\")\n",
        "algo_baseline = BaselineOnly()\n",
        "\n",
        "# 5-fold cross-validation\n",
        "results_baseline = cross_validate(algo_baseline, data, measures=['RMSE', 'MAE'], cv=5, verbose=True)\n",
        "\n",
        "# Storing the mean RMSE for later comparison\n",
        "rmse_baseline = results_baseline['test_rmse'].mean()\n",
        "print(f\"\\nAverage RMSE for BaselineOnly: {rmse_baseline:.4f}\")"
      ],
      "metadata": {
        "colab": {
          "base_uri": "https://localhost:8080/"
        },
        "id": "qayXu5j4L5tj",
        "outputId": "72149a7b-786c-4e71-9009-be210cffb134"
      },
      "execution_count": null,
      "outputs": [
        {
          "output_type": "stream",
          "name": "stdout",
          "text": [
            "Evaluating BaselineOnly Model...\n",
            "Estimating biases using als...\n",
            "Estimating biases using als...\n",
            "Estimating biases using als...\n",
            "Estimating biases using als...\n",
            "Estimating biases using als...\n",
            "Evaluating RMSE, MAE of algorithm BaselineOnly on 5 split(s).\n",
            "\n",
            "                  Fold 1  Fold 2  Fold 3  Fold 4  Fold 5  Mean    Std     \n",
            "RMSE (testset)    0.8745  0.8774  0.8683  0.8809  0.8613  0.8725  0.0069  \n",
            "MAE (testset)     0.6740  0.6749  0.6737  0.6769  0.6651  0.6729  0.0040  \n",
            "Fit time          0.86    0.41    0.32    0.74    0.37    0.54    0.22    \n",
            "Test time         0.12    0.13    0.17    0.42    0.09    0.19    0.12    \n",
            "\n",
            "Average RMSE for BaselineOnly: 0.8725\n"
          ]
        }
      ]
    },
    {
      "cell_type": "code",
      "source": [
        "from surprise import SVD\n",
        "\n",
        "# Model 2: SVD\n",
        "print(\"\\nEvaluating SVD Model...\")\n",
        "algo_svd = SVD()\n",
        "\n",
        "# 5-fold cross-validation\n",
        "results_svd = cross_validate(algo_svd, data, measures=['RMSE', 'MAE'], cv=5, verbose=True)\n",
        "\n",
        "# Storing the mean RMSE for comparison\n",
        "rmse_svd = results_svd['test_rmse'].mean()\n",
        "print(f\"\\nAverage RMSE for SVD: {rmse_svd:.4f}\")"
      ],
      "metadata": {
        "colab": {
          "base_uri": "https://localhost:8080/"
        },
        "id": "52nU6MHnNlMe",
        "outputId": "582f3323-7b4a-410b-adc9-fb3558b50d2d"
      },
      "execution_count": null,
      "outputs": [
        {
          "output_type": "stream",
          "name": "stdout",
          "text": [
            "\n",
            "Evaluating SVD Model...\n",
            "Evaluating RMSE, MAE of algorithm SVD on 5 split(s).\n",
            "\n",
            "                  Fold 1  Fold 2  Fold 3  Fold 4  Fold 5  Mean    Std     \n",
            "RMSE (testset)    0.8658  0.8660  0.8777  0.8824  0.8772  0.8738  0.0067  \n",
            "MAE (testset)     0.6638  0.6678  0.6733  0.6771  0.6720  0.6708  0.0046  \n",
            "Fit time          1.23    1.10    1.09    1.12    1.09    1.13    0.06    \n",
            "Test time         0.22    0.09    0.20    0.10    0.27    0.17    0.07    \n",
            "\n",
            "Average RMSE for SVD: 0.8738\n"
          ]
        }
      ]
    },
    {
      "cell_type": "code",
      "source": [
        "from surprise import SVDpp\n",
        "\n",
        "# Model 3: SVD++\n",
        "print(\"\\nEvaluating SVD++ Model...\")\n",
        "algo_svdpp = SVDpp()\n",
        "\n",
        "# 5-fold cross-validation\n",
        "results_svdpp = cross_validate(algo_svdpp, data, measures=['RMSE', 'MAE'], cv=5, verbose=True)\n",
        "\n",
        "# Storing the mean RMSE for comparison\n",
        "rmse_svdpp = results_svdpp['test_rmse'].mean()\n",
        "print(f\"\\nAverage RMSE for SVD++: {rmse_svdpp:.4f}\")"
      ],
      "metadata": {
        "colab": {
          "base_uri": "https://localhost:8080/"
        },
        "id": "Xbz-1cccN_tL",
        "outputId": "7da23df1-e6c9-4b16-bba1-5f00f22fa40b"
      },
      "execution_count": null,
      "outputs": [
        {
          "output_type": "stream",
          "name": "stdout",
          "text": [
            "\n",
            "Evaluating SVD++ Model...\n",
            "Evaluating RMSE, MAE of algorithm SVDpp on 5 split(s).\n",
            "\n",
            "                  Fold 1  Fold 2  Fold 3  Fold 4  Fold 5  Mean    Std     \n",
            "RMSE (testset)    0.8591  0.8626  0.8617  0.8611  0.8627  0.8614  0.0013  \n",
            "MAE (testset)     0.6613  0.6638  0.6612  0.6589  0.6580  0.6606  0.0020  \n",
            "Fit time          76.40   76.65   76.30   75.77   75.98   76.22   0.31    \n",
            "Test time         7.88    8.22    8.00    8.08    8.06    8.05    0.11    \n",
            "\n",
            "Average RMSE for SVD++: 0.8614\n"
          ]
        }
      ]
    },
    {
      "cell_type": "code",
      "source": [
        "# Step 1: Comparing Models Performance\n",
        "model_comparison = pd.DataFrame({\n",
        "    'Model': ['BaselineOnly', 'SVD', 'SVD++'],\n",
        "    'RMSE': [rmse_baseline, rmse_svd, rmse_svdpp]\n",
        "})\n",
        "\n",
        "print(\"--- Model Performance Comparison ---\")\n",
        "print(model_comparison.sort_values(by='RMSE'))\n",
        "\n",
        "\n",
        "# Step 2: Training the final SVD++ model on the whole dataset\n",
        "trainset = data.build_full_trainset()\n",
        "final_model = SVDpp()\n",
        "print(\"\\nTraining the final SVD++ model on the entire dataset...\")\n",
        "final_model.fit(trainset)\n",
        "print(\"Training complete.\")\n",
        "\n",
        "\n",
        "# Step 3: Creating a function to get top-N recommendations\n",
        "def get_top_n_recommendations(user_id, n=10):\n",
        "    \"\"\"Returns the top-N recommendation for a given user.\"\"\"\n",
        "    #list of all movie ids\n",
        "    all_movie_ids = df['movieId'].unique()\n",
        "\n",
        "    #list of movies the user has already rated\n",
        "    movies_rated_by_user = df[df['userId'] == user_id]['movieId'].unique()\n",
        "\n",
        "    #the movies the user has NOT rated\n",
        "    movies_to_predict = np.setdiff1d(all_movie_ids, movies_rated_by_user)\n",
        "\n",
        "    #Predict ratings for all unrated movies\n",
        "    predictions = [final_model.predict(uid=user_id, iid=movie_id) for movie_id in movies_to_predict]\n",
        "\n",
        "    #Sorting the predictions by estimated rating\n",
        "    predictions.sort(key=lambda x: x.est, reverse=True)\n",
        "\n",
        "    #Getting the top N recommendations\n",
        "    top_n_preds = predictions[:n]\n",
        "\n",
        "    #Getting the movie titles for the recommended ids\n",
        "    top_n_movie_ids = [pred.iid for pred in top_n_preds]\n",
        "    top_n_movies = movies_df[movies_df['movieId'].isin(top_n_movie_ids)].copy() # Use .copy() to avoid SettingWithCopyWarning\n",
        "\n",
        "    #Adding predicted rating to the movie details\n",
        "    predicted_ratings = {pred.iid: pred.est for pred in top_n_preds}\n",
        "    top_n_movies['predicted_rating'] = top_n_movies['movieId'].map(predicted_ratings)\n",
        "\n",
        "    return top_n_movies[['movieId', 'title', 'genres', 'predicted_rating']].sort_values(by='predicted_rating', ascending=False)\n",
        "\n",
        "\n",
        "# Step 4: Get and display recommendations for a sample user\n",
        "# Changing this user ID will give different recommendations\n",
        "user_id_to_recommend = 196\n",
        "top_movies = get_top_n_recommendations(user_id=user_id_to_recommend, n=10)\n",
        "\n",
        "print(f\"\\n--- Top 10 Movie Recommendations for User {user_id_to_recommend} ---\")\n",
        "print(top_movies)"
      ],
      "metadata": {
        "colab": {
          "base_uri": "https://localhost:8080/"
        },
        "id": "XovayK2bQxA8",
        "outputId": "3fbe184a-e10d-4994-b1d7-a428a65ef233"
      },
      "execution_count": null,
      "outputs": [
        {
          "output_type": "stream",
          "name": "stdout",
          "text": [
            "--- Model Performance Comparison ---\n",
            "          Model      RMSE\n",
            "2         SVD++  0.861429\n",
            "0  BaselineOnly  0.872485\n",
            "1           SVD  0.873817\n",
            "\n",
            "Training the final SVD++ model on the entire dataset...\n",
            "Training complete.\n",
            "\n",
            "--- Top 10 Movie Recommendations for User 196 ---\n",
            "      movieId                                           title  \\\n",
            "277       318                Shawshank Redemption, The (1994)   \n",
            "841      1104                Streetcar Named Desire, A (1951)   \n",
            "461       527                         Schindler's List (1993)   \n",
            "1730     2324      Life Is Beautiful (La Vita è bella) (1997)   \n",
            "224       260       Star Wars: Episode IV - A New Hope (1977)   \n",
            "2582     3451             Guess Who's Coming to Dinner (1967)   \n",
            "413       475                In the Name of the Father (1993)   \n",
            "982      1283                                High Noon (1952)   \n",
            "914      1213                               Goodfellas (1990)   \n",
            "4025     5690  Grave of the Fireflies (Hotaru no haka) (1988)   \n",
            "\n",
            "                        genres  predicted_rating  \n",
            "277                Crime|Drama          4.553457  \n",
            "841                      Drama          4.488365  \n",
            "461                  Drama|War          4.470911  \n",
            "1730  Comedy|Drama|Romance|War          4.468618  \n",
            "224    Action|Adventure|Sci-Fi          4.459760  \n",
            "2582                     Drama          4.457988  \n",
            "413                      Drama          4.406531  \n",
            "982              Drama|Western          4.396772  \n",
            "914                Crime|Drama          4.395233  \n",
            "4025       Animation|Drama|War          4.370952  \n"
          ]
        }
      ]
    },
    {
      "cell_type": "code",
      "source": [
        "from google.colab import drive\n",
        "drive.mount('/content/drive')"
      ],
      "metadata": {
        "colab": {
          "base_uri": "https://localhost:8080/"
        },
        "id": "EzRnMnnBSKaw",
        "outputId": "dbcc4231-0762-432f-ef8d-b391c8cedab3"
      },
      "execution_count": null,
      "outputs": [
        {
          "output_type": "stream",
          "name": "stdout",
          "text": [
            "Mounted at /content/drive\n"
          ]
        }
      ]
    },
    {
      "cell_type": "code",
      "source": [
        "from surprise import dump\n",
        "import os\n",
        "\n",
        "model_path = \"/content/drive/My Drive/Colab Notebooks/models/svdpp_model.dump\"\n",
        "\n",
        "os.makedirs(os.path.dirname(model_path), exist_ok=True)\n",
        "\n",
        "dump.dump(model_path, algo=final_model)\n",
        "print(f\"Model saved to Google Drive at: {model_path}\")"
      ],
      "metadata": {
        "colab": {
          "base_uri": "https://localhost:8080/"
        },
        "id": "e5cuaDOCSt7v",
        "outputId": "557833e3-ea97-4aab-aa18-f1827f140f61"
      },
      "execution_count": null,
      "outputs": [
        {
          "output_type": "stream",
          "name": "stdout",
          "text": [
            "Model saved to Google Drive at: /content/drive/My Drive/Colab Notebooks/models/svdpp_model.dump\n"
          ]
        }
      ]
    }
  ]
}